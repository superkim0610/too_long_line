{
 "cells": [
  {
   "cell_type": "code",
   "id": "initial_id",
   "metadata": {
    "collapsed": true
   },
   "source": [
    "from Data import get_data\n",
    "\n",
    "import matplotlib.pyplot as plt\n",
    "import seaborn as sns"
   ],
   "outputs": [],
   "execution_count": null
  },
  {
   "metadata": {},
   "cell_type": "code",
   "source": "data = get_data()",
   "id": "1fa2a616ba9ea2b9",
   "outputs": [],
   "execution_count": null
  },
  {
   "metadata": {
    "ExecuteTime": {
     "end_time": "2025-07-30T17:11:39.294017Z",
     "start_time": "2025-07-30T17:11:39.290232Z"
    }
   },
   "cell_type": "code",
   "source": "data[\"restaurant_type\"]",
   "id": "a6748808078d2d3b",
   "outputs": [
    {
     "data": {
      "text/plain": [
       "\"{'대분류': '양식', '중분류': '기타', '세분류': '양식'}\""
      ]
     },
     "execution_count": 38,
     "metadata": {},
     "output_type": "execute_result"
    }
   ],
   "execution_count": 38
  },
  {
   "metadata": {
    "ExecuteTime": {
     "end_time": "2025-07-30T13:19:19.874516Z",
     "start_time": "2025-07-30T13:19:19.842084Z"
    }
   },
   "cell_type": "code",
   "source": [
    "keywords = set()\n",
    "keywords = keywords.union(*list(data.apply(lambda row: set(eval(row[\"review_ratio\"]).keys()), axis=1)))"
   ],
   "id": "953e911834a52c70",
   "outputs": [],
   "execution_count": 26
  },
  {
   "metadata": {
    "ExecuteTime": {
     "end_time": "2025-07-30T13:41:18.482365Z",
     "start_time": "2025-07-30T13:41:18.471663Z"
    }
   },
   "cell_type": "code",
   "source": "keywords",
   "id": "6e1e3824fd841abf",
   "outputs": [
    {
     "data": {
      "text/plain": [
       "{'가격이 합리적이에요',\n",
       " '가성비가 좋아요',\n",
       " '건강한 맛이에요',\n",
       " '고기 질이 좋아요',\n",
       " '기본 안주가 좋아요',\n",
       " '단체모임 하기 좋아요',\n",
       " '대화하기 좋아요',\n",
       " '디저트가 맛있어요',\n",
       " '라이브공연이 훌륭해요',\n",
       " '룸이 잘 되어있어요',\n",
       " '매장이 넓어요',\n",
       " '매장이 청결해요',\n",
       " '메뉴 구성이 알차요',\n",
       " '반려동물과 가기 좋아요',\n",
       " '반찬이 잘 나와요',\n",
       " '뷰가 좋아요',\n",
       " '비싼 만큼 가치있어요',\n",
       " '빵이 맛있어요',\n",
       " '사진이 잘 나와요',\n",
       " '샐러드바가 잘 되어있어요',\n",
       " '선물하기 좋아요',\n",
       " '설명이 자세해요',\n",
       " '술이 다양해요',\n",
       " '아늑해요',\n",
       " '아이와 가기 좋아요',\n",
       " '야외공간이 멋져요',\n",
       " '양이 많아요',\n",
       " '오래 머무르기 좋아요',\n",
       " '음료가 맛있어요',\n",
       " '음식이 맛있어요',\n",
       " '음식이 빨리 나와요',\n",
       " '음악이 좋아요',\n",
       " '인테리어가 멋져요',\n",
       " '읽을만한 책이 많아요',\n",
       " '잡내가 적어요',\n",
       " '재료가 신선해요',\n",
       " '종류가 다양해요',\n",
       " '좌석이 편해요',\n",
       " '주문제작을 잘해줘요',\n",
       " '주차하기 편해요',\n",
       " '직접 잘 구워줘요',\n",
       " '집중하기 좋아요',\n",
       " '차가 맛있어요',\n",
       " '차분한 분위기예요',\n",
       " '친절해요',\n",
       " '커피가 맛있어요',\n",
       " '컨셉이 독특해요',\n",
       " '코스요리가 알차요',\n",
       " '특별한 날 가기 좋아요',\n",
       " '특별한 메뉴가 있어요',\n",
       " '특색 있는 제품이 많아요',\n",
       " '파티하기 좋아요',\n",
       " '포장이 깔끔해요',\n",
       " '포장이 정성스러워요',\n",
       " '향신료가 강하지 않아요',\n",
       " '현지 맛에 가까워요',\n",
       " '혼밥하기 좋아요',\n",
       " '혼술하기 좋아요',\n",
       " '화장실이 깨끗해요',\n",
       " '환기가 잘 돼요'}"
      ]
     },
     "execution_count": 29,
     "metadata": {},
     "output_type": "execute_result"
    }
   ],
   "execution_count": 29
  },
  {
   "metadata": {
    "ExecuteTime": {
     "end_time": "2025-07-30T13:43:37.715807Z",
     "start_time": "2025-07-30T13:43:37.712465Z"
    }
   },
   "cell_type": "code",
   "source": [
    "categorized_keywords = {\n",
    "  \"음식/가격\": [\n",
    "    \"가격이 합리적이에요\",\n",
    "    \"가성비가 좋아요\",\n",
    "    \"건강한 맛이에요\",\n",
    "    \"고기 질이 좋아요\",\n",
    "    \"디저트가 맛있어요\",\n",
    "    \"메뉴 구성이 알차요\",\n",
    "    \"반찬이 잘 나와요\",\n",
    "    \"비싼 만큼 가치있어요\",\n",
    "    \"빵이 맛있어요\",\n",
    "    \"샐러드바가 잘 되어있어요\",\n",
    "    \"술이 다양해요\",\n",
    "    \"양이 많아요\",\n",
    "    \"음료가 맛있어요\",\n",
    "    \"음식이 맛있어요\",\n",
    "    \"음식이 빨리 나와요\",\n",
    "    \"잡내가 적어요\",\n",
    "    \"재료가 신선해요\",\n",
    "    \"종류가 다양해요\",\n",
    "    \"직접 잘 구워줘요\",\n",
    "    \"차가 맛있어요\",\n",
    "    \"커피가 맛있어요\",\n",
    "    \"코스요리가 알차요\",\n",
    "    \"특별한 메뉴가 있어요\",\n",
    "    \"향신료가 강하지 않아요\",\n",
    "    \"현지 맛에 가까워요\"\n",
    "  ],\n",
    "  \"분위기\": [\n",
    "    \"대화하기 좋아요\",\n",
    "    \"라이브공연이 훌륭해요\",\n",
    "    \"룸이 잘 되어있어요\",\n",
    "    \"매장이 넓어요\",\n",
    "    \"매장이 청결해요\",\n",
    "    \"반려동물과 가기 좋아요\",\n",
    "    \"뷰가 좋아요\",\n",
    "    \"사진이 잘 나와요\",\n",
    "    \"아늑해요\",\n",
    "    \"아이와 가기 좋아요\",\n",
    "    \"야외공간이 멋져요\",\n",
    "    \"오래 머무르기 좋아요\",\n",
    "    \"음악이 좋아요\",\n",
    "    \"인테리어가 멋져요\",\n",
    "    \"좌석이 편해요\",\n",
    "    \"차분한 분위기예요\",\n",
    "    \"특별한 날 가기 좋아요\",\n",
    "    \"파티하기 좋아요\",\n",
    "    \"혼밥하기 좋아요\",\n",
    "    \"혼술하기 좋아요\",\n",
    "    \"환기가 잘 돼요\"\n",
    "  ],\n",
    "  \"기타\": [\n",
    "    \"기본 안주가 좋아요\",\n",
    "    \"단체모임 하기 좋아요\",\n",
    "    \"선물하기 좋아요\",\n",
    "    \"설명이 자세해요\",\n",
    "    \"읽을만한 책이 많아요\",\n",
    "    \"주문제작을 잘해줘요\",\n",
    "    \"주차하기 편해요\",\n",
    "    \"집중하기 좋아요\",\n",
    "    \"친절해요\",\n",
    "    \"컨셉이 독특해요\",\n",
    "    \"특색 있는 제품이 많아요\",\n",
    "    \"포장이 깔끔해요\",\n",
    "    \"포장이 정성스러워요\",\n",
    "    \"화장실이 깨끗해요\"\n",
    "  ]\n",
    "}"
   ],
   "id": "4279395ab599500d",
   "outputs": [],
   "execution_count": 30
  },
  {
   "metadata": {
    "ExecuteTime": {
     "end_time": "2025-07-30T13:44:08.272112Z",
     "start_time": "2025-07-30T13:44:08.267920Z"
    }
   },
   "cell_type": "code",
   "source": [
    "for k, v in categorized_keywords.items():\n",
    "    print(len(v))"
   ],
   "id": "e1ba501702e54080",
   "outputs": [
    {
     "name": "stdout",
     "output_type": "stream",
     "text": [
      "25\n",
      "21\n",
      "14\n"
     ]
    }
   ],
   "execution_count": 31
  }
 ],
 "metadata": {
  "kernelspec": {
   "display_name": "Python 3",
   "language": "python",
   "name": "python3"
  },
  "language_info": {
   "codemirror_mode": {
    "name": "ipython",
    "version": 2
   },
   "file_extension": ".py",
   "mimetype": "text/x-python",
   "name": "python",
   "nbconvert_exporter": "python",
   "pygments_lexer": "ipython2",
   "version": "2.7.6"
  }
 },
 "nbformat": 4,
 "nbformat_minor": 5
}
