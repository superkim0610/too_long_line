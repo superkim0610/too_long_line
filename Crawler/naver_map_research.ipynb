{
 "cells": [
  {
   "cell_type": "code",
   "id": "initial_id",
   "metadata": {
    "collapsed": true
   },
   "source": [
    "from xml.sax.saxutils import prepare_input_source\n",
    "\n",
    "from bs4 import BeautifulSoup\n",
    "import undetected_chromedriver as uc\n",
    "from selenium.common import WebDriverException\n",
    "from selenium.webdriver.common.by import By\n",
    "from selenium.webdriver.support.ui import WebDriverWait\n",
    "from selenium.webdriver.support import expected_conditions as EC\n",
    "import time"
   ],
   "outputs": [],
   "execution_count": null
  },
  {
   "metadata": {
    "ExecuteTime": {
     "end_time": "2025-07-29T14:32:59.558778Z",
     "start_time": "2025-07-29T14:32:56.437575Z"
    }
   },
   "cell_type": "code",
   "source": [
    "driver = uc.Chrome()\n",
    "wait = WebDriverWait(driver, timeout=10, poll_frequency=0.2)"
   ],
   "id": "bb11badc3d76afd5",
   "outputs": [],
   "execution_count": 3
  },
  {
   "metadata": {},
   "cell_type": "code",
   "source": [
    "url = \"https://map.naver.com/p\"\n",
    "driver.get(url)"
   ],
   "id": "f7b637d8818cde86",
   "outputs": [],
   "execution_count": null
  },
  {
   "metadata": {
    "ExecuteTime": {
     "end_time": "2025-07-29T14:33:01.908635Z",
     "start_time": "2025-07-29T14:33:01.253227Z"
    }
   },
   "cell_type": "code",
   "source": [
    "# search query\n",
    "\n",
    "def search_query(query):\n",
    "    query.replace(' ', '%20')\n",
    "    url = f\"https://map.naver.com/p/search/{query}\"\n",
    "    driver.get(url)\n",
    "\n",
    "search_query(\"강남 음식점\")"
   ],
   "id": "6cf8344628fefed4",
   "outputs": [],
   "execution_count": 4
  },
  {
   "metadata": {
    "ExecuteTime": {
     "end_time": "2025-07-29T14:33:04.521756Z",
     "start_time": "2025-07-29T14:33:04.163102Z"
    }
   },
   "cell_type": "code",
   "source": [
    "# get objects\n",
    "search_iframe = driver.find_element(By.ID, \"searchIframe\")\n",
    "driver.switch_to.frame(search_iframe)\n",
    "\n",
    "restaurant_list_scroll_container = driver.find_element(By.ID, '_pcmap_list_scroll_container')"
   ],
   "id": "748cfc314f230a04",
   "outputs": [],
   "execution_count": 5
  },
  {
   "metadata": {
    "ExecuteTime": {
     "end_time": "2025-07-29T14:33:26.454554Z",
     "start_time": "2025-07-29T14:33:07.253324Z"
    }
   },
   "cell_type": "code",
   "source": [
    "# dynamic scroll\n",
    "\n",
    "scroll_num = 0\n",
    "prev_scroll_remain = None\n",
    "while True:\n",
    "    scroll_top = driver.execute_script(\"return arguments[0].scrollTop\", restaurant_list_scroll_container)\n",
    "    scroll_height = driver.execute_script(\"return arguments[0].scrollHeight\", restaurant_list_scroll_container)\n",
    "    scroll_remain = scroll_height - scroll_top\n",
    "    print(f\"scroll_num: {scroll_num}, scroll_height: {scroll_height}, scroll_remain: {scroll_remain}\")\n",
    "\n",
    "    # end-of-loop\n",
    "    if scroll_remain <= 0 or scroll_num >= 20 or prev_scroll_remain == scroll_remain:\n",
    "        break\n",
    "\n",
    "    # do scroll\n",
    "    for _ in range(10):\n",
    "        driver.execute_script(f\"arguments[0].scrollTop += {scroll_remain // 10}\", restaurant_list_scroll_container)\n",
    "        time.sleep(0.1)\n",
    "\n",
    "    # delay\n",
    "    time.sleep(0.4)\n",
    "\n",
    "    scroll_num += 1\n",
    "    prev_scroll_remain = int(scroll_remain)"
   ],
   "id": "a6a3cda9bd60cc88",
   "outputs": [
    {
     "name": "stdout",
     "output_type": "stream",
     "text": [
      "scroll_num: 0, scroll_height: 4279, scroll_remain: 4279\n",
      "scroll_num: 1, scroll_height: 7522, scroll_remain: 3252\n",
      "scroll_num: 2, scroll_height: 10286, scroll_remain: 2766\n",
      "scroll_num: 3, scroll_height: 13083, scroll_remain: 2803\n",
      "scroll_num: 4, scroll_height: 18394, scroll_remain: 5314\n",
      "scroll_num: 5, scroll_height: 21422, scroll_remain: 3032\n",
      "scroll_num: 6, scroll_height: 24386, scroll_remain: 2966\n",
      "scroll_num: 7, scroll_height: 25133, scroll_remain: 753\n",
      "scroll_num: 8, scroll_height: 25133, scroll_remain: 401\n",
      "scroll_num: 9, scroll_height: 25133, scroll_remain: 401\n"
     ]
    }
   ],
   "execution_count": 6
  },
  {
   "metadata": {
    "ExecuteTime": {
     "end_time": "2025-07-29T14:40:36.058071Z",
     "start_time": "2025-07-29T14:40:36.037430Z"
    }
   },
   "cell_type": "code",
   "source": [
    "driver.switch_to.default_content()\n",
    "driver.switch_to.frame(search_iframe)"
   ],
   "id": "3612d56a538b6539",
   "outputs": [],
   "execution_count": 24
  },
  {
   "metadata": {
    "ExecuteTime": {
     "end_time": "2025-07-29T14:40:44.832373Z",
     "start_time": "2025-07-29T14:40:36.865089Z"
    }
   },
   "cell_type": "code",
   "source": [
    "restaurant_li_list = driver.find_elements(By.CSS_SELECTOR, \"#_pcmap_list_scroll_container > ul > li\")\n",
    "restaurant_a_list = driver.find_elements(By.CSS_SELECTOR, \"div.CHC5F > div.bSoi3 > a\")\n",
    "prev_restaurant_iframe_src = None\n",
    "\n",
    "for a in restaurant_a_list[:5]:\n",
    "    a.click()\n",
    "\n",
    "    # delay\n",
    "    driver.switch_to.default_content()\n",
    "    restaurant_iframe_locator = (By.XPATH, '//*[@id=\"entryIframe\"]')\n",
    "    try:\n",
    "        wait.until(\n",
    "            EC.frame_to_be_available_and_switch_to_it(restaurant_iframe_locator)\n",
    "        )\n",
    "    except:\n",
    "        time.sleep(2)\n",
    "        # driver.switch_to.default_content()\n",
    "\n",
    "        driver.switch_to.frame(driver.find_element(*restaurant_iframe_locator))\n",
    "        print('switched')\n",
    "\n",
    "    # get info\n",
    "    # restaurant_info : restaurant_name, restaurant_category, restaurant_address, restaurant_tel\n",
    "    # review_data : total, key...\n",
    "\n",
    "    for i in [\n",
    "        [\"restraunt_name\", (By.CSS_SELECTOR, \"#_title > div > span.GHAhO\")],\n",
    "        [\"restraunt_category\", (By.CSS_SELECTOR, \"#_title > div > span.lnJFt\")],\n",
    "        [\"restraunt_address\", (By.CSS_SELECTOR, \"div > a > span.LDgIH\")],\n",
    "        [\"restraunt_tel\", (By.CSS_SELECTOR, \"div > span.xlx7Q\")],\n",
    "    ]:\n",
    "        print(i[0], driver.find_element(*i[1]).text)\n",
    "    print('-----------')\n",
    "\n",
    "\n",
    "    \"#_title > div > span.GHAhO\"\n",
    "    \"#_title > div > span.lnJFt\"\n",
    "    \"#app-root > div > div > div:nth-child(6) > div > div:nth-child(2) > div.place_section_content > div > div.O8qbU.tQY7D > div > a > span.LDgIH\"\n",
    "    \"#app-root > div > div > div:nth-child(6) > div > div:nth-child(2) > div.place_section_content > div > div.O8qbU.nbXkr > div > span.xlx7Q\"\n",
    "\n",
    "    '//*[@id=\"app-root\"]/div/div/div[5]/div/div/div/div/a[5]'\n",
    "\n",
    "    \"#app-root > div > div > div:nth-child(7) > div:nth-child(2) > div.place_section.no_margin.ySHNE > div > div > div.jypaX > em\"\n",
    "\n",
    "    driver.switch_to.default_content()\n",
    "    driver.switch_to.frame(search_iframe)\n"
   ],
   "id": "42dc59180314c0ec",
   "outputs": [
    {
     "name": "stdout",
     "output_type": "stream",
     "text": [
      "restraunt_name 태수\n",
      "restraunt_category 요리주점\n",
      "restraunt_address 서울 강남구 도산대로11길 22 1층 태수\n",
      "restraunt_tel 0507-1317-2149\n",
      "-----------\n",
      "restraunt_name 밤별 포차 라운지 강남역본점\n",
      "restraunt_category 요리주점\n",
      "restraunt_address 서울 강남구 강남대로102길 13-8 지층, 1층, 2층, 3층\n",
      "restraunt_tel 0507-1350-0024\n",
      "-----------\n",
      "restraunt_name 팔백집 강남점\n",
      "restraunt_category 육류,고기요리\n",
      "restraunt_address 서울 강남구 봉은사로2길 15 1층\n",
      "restraunt_tel 0507-1323-7654\n",
      "-----------\n",
      "restraunt_name 쿄코코 신논현점\n",
      "restraunt_category 일식당\n",
      "restraunt_address 서울 강남구 강남대로106길 23 지하1층\n",
      "restraunt_tel 0507-1474-2254\n",
      "-----------\n",
      "switched\n",
      "restraunt_name 핫쵸 스타필드 코엑스몰점\n",
      "restraunt_category 일식당\n",
      "restraunt_address 서울 강남구 영동대로 513 코엑스 스타필드 지하 1층\n",
      "restraunt_tel 0507-1417-6760\n",
      "-----------\n"
     ]
    }
   ],
   "execution_count": 25
  },
  {
   "metadata": {},
   "cell_type": "code",
   "source": [
    "# driver.switch_to.frame(search_iframe)\n",
    "soup = BeautifulSoup(driver.page_source, 'html.parser')\n",
    "# temp_soup = soup.find(\"#app-root > div > div.XUrfU\")\n",
    "# restaurant_list_soup = soup.find(\"div#_pcmap_list_scroll_container\")\n",
    "# restaurant_page_soup = soup.find(\"#app-root > div > div.XUrfU > div.zRM9F\")\n",
    "print(len(soup.find(\"div\", id=\"_pcmap_list_scroll_container\").find(\"ul\").find_all(\"li\")))"
   ],
   "id": "36a9bbad315beedc",
   "outputs": [],
   "execution_count": null
  }
 ],
 "metadata": {
  "kernelspec": {
   "display_name": "Python 3",
   "language": "python",
   "name": "python3"
  },
  "language_info": {
   "codemirror_mode": {
    "name": "ipython",
    "version": 2
   },
   "file_extension": ".py",
   "mimetype": "text/x-python",
   "name": "python",
   "nbconvert_exporter": "python",
   "pygments_lexer": "ipython2",
   "version": "2.7.6"
  }
 },
 "nbformat": 4,
 "nbformat_minor": 5
}
